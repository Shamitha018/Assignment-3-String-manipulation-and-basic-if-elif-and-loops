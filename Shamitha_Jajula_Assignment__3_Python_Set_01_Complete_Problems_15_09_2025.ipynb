{
  "nbformat": 4,
  "nbformat_minor": 0,
  "metadata": {
    "colab": {
      "provenance": []
    },
    "kernelspec": {
      "name": "python3",
      "display_name": "Python 3"
    },
    "language_info": {
      "name": "python"
    }
  },
  "cells": [
    {
      "cell_type": "markdown",
      "source": [
        "# 1. Basics of Python Using Strings"
      ],
      "metadata": {
        "id": "ztIILTxhOzI7"
      }
    },
    {
      "cell_type": "markdown",
      "source": [
        "#1. Greeting Message\n",
        "Create a variable `customer_name` with the value \"Priya\". Print a personalized greeting\n",
        "message: \"Hello, Priya! Welcome.\""
      ],
      "metadata": {
        "id": "4uz6rqzkj42p"
      }
    },
    {
      "cell_type": "code",
      "execution_count": null,
      "metadata": {
        "id": "FnEUvJ2eHukM",
        "colab": {
          "base_uri": "https://localhost:8080/"
        },
        "outputId": "7cf9049e-62d3-43f6-d110-68aad20898bc"
      },
      "outputs": [
        {
          "output_type": "stream",
          "name": "stdout",
          "text": [
            "Hello, Priya! Welcome.\n"
          ]
        }
      ],
      "source": [
        "customer_name = \"Priya\"\n",
        "print(f\"Hello, {customer_name}! Welcome.\")"
      ]
    },
    {
      "cell_type": "markdown",
      "source": [
        "#2. Item Label </br>\n",
        "Create two variables: `item_name` with \"Mango Blast\" and `price_per_item` with 80. </br>\n",
        "Print a formatted label showing both pieces of information: \"Item: Mango Blast, Price: 80 INR\"."
      ],
      "metadata": {
        "id": "7ONmVK6Yku3j"
      }
    },
    {
      "cell_type": "code",
      "source": [
        "item_name =\"Mango Blast\"\n",
        "price_per_item = 80.0\n",
        "print(f\"Item: {item_name}, Price: {price_per_item} INR\")"
      ],
      "metadata": {
        "colab": {
          "base_uri": "https://localhost:8080/"
        },
        "id": "csjQsZ9Wk5op",
        "outputId": "506956af-7857-4e33-a0a4-21e4c0899ccd"
      },
      "execution_count": null,
      "outputs": [
        {
          "output_type": "stream",
          "name": "stdout",
          "text": [
            "Item: Mango Blast, Price: 80.0 INR\n"
          ]
        }
      ]
    },
    {
      "cell_type": "markdown",
      "source": [
        "#3. Order Summary\n",
        "Create variables `item1` (\"Vanilla Delight\"), `item2` (\"Chocolate Chip\"), and `total_cost`\n",
        "(300). Print a summary line: \"Order: Vanilla Delight, Chocolate Chip. Total: 300 INR.\""
      ],
      "metadata": {
        "id": "JktlIAxOlVb9"
      }
    },
    {
      "cell_type": "code",
      "source": [
        "item1 = \"Vanilla Delight\"\n",
        "item2 = \"Chocolate Chip\"\n",
        "total_cost = 300\n",
        "print(f\"Order: {item1}, {item2}. Total: {total_cost} INR\")"
      ],
      "metadata": {
        "colab": {
          "base_uri": "https://localhost:8080/"
        },
        "id": "0r4d18yXlazd",
        "outputId": "9932fd6a-aa4b-468a-8749-4fa6824c8089"
      },
      "execution_count": null,
      "outputs": [
        {
          "output_type": "stream",
          "name": "stdout",
          "text": [
            "Order: Vanilla Delight, Chocolate Chip. Total: 300 INR\n"
          ]
        }
      ]
    },
    {
      "cell_type": "markdown",
      "source": [
        "#4. Dynamic Message\n",
        "Create variables `staff_name` (\"Arjun\") and `current_time` (\"10:00 AM\"). Print a message\n",
        "announcing the staff member on duty: \"Current staff member on duty: Arjun. Time: 10:00\n",
        "AM.\""
      ],
      "metadata": {
        "id": "I4RNQiq3l2Iv"
      }
    },
    {
      "cell_type": "code",
      "source": [
        "staff_name = \"Arjun\"\n",
        "current_time = \"10:00 AM\"\n",
        "print(f\"Current staff member on duty: {staff_name}. Time: {current_time}.\")"
      ],
      "metadata": {
        "colab": {
          "base_uri": "https://localhost:8080/"
        },
        "id": "_uzvRPJll6yJ",
        "outputId": "3c64a104-ffa0-4fd6-f9a2-5d4727494124"
      },
      "execution_count": null,
      "outputs": [
        {
          "output_type": "stream",
          "name": "stdout",
          "text": [
            "Current staff member on duty: Arjun. Time: 10:00 AM.\n"
          ]
        }
      ]
    },
    {
      "cell_type": "markdown",
      "source": [
        "#5. String Length\n",
        "Find and print the length of the string \"Strawberry Sensation\"."
      ],
      "metadata": {
        "id": "gzA5U2aTmRkw"
      }
    },
    {
      "cell_type": "code",
      "source": [
        "print(len(\"Strawberry Sensation\"))"
      ],
      "metadata": {
        "colab": {
          "base_uri": "https://localhost:8080/"
        },
        "id": "Z8VArRnqmWnJ",
        "outputId": "32a1e976-9fbe-49b7-a910-f77d9d97aba5"
      },
      "execution_count": null,
      "outputs": [
        {
          "output_type": "stream",
          "name": "stdout",
          "text": [
            "20\n"
          ]
        }
      ]
    },
    {
      "cell_type": "markdown",
      "source": [
        "#6. Capitalization\n",
        "Create a variable `flavor_name` with \"butterscotch crunch\". Print the flavor name with the\n",
        "first letter of each word capitalized."
      ],
      "metadata": {
        "id": "10OlHbg6mf5g"
      }
    },
    {
      "cell_type": "code",
      "source": [
        "flavor_name = \"butterscotch crunch\"\n",
        "print(flavor_name.title())"
      ],
      "metadata": {
        "colab": {
          "base_uri": "https://localhost:8080/"
        },
        "id": "lDM1zjpumkGH",
        "outputId": "7a85f5d6-38a5-4676-ad1c-9e1c6bace0eb"
      },
      "execution_count": null,
      "outputs": [
        {
          "output_type": "stream",
          "name": "stdout",
          "text": [
            "Butterscotch Crunch\n"
          ]
        }
      ]
    },
    {
      "cell_type": "markdown",
      "source": [
        "#7. Finding Substrings\n",
        "Check if the word \"Milk\" is present in the ingredient list string \"Milk, Cream, Sugar,\n",
        "Vanilla\". Print `True` or `False` based on the result."
      ],
      "metadata": {
        "id": "VE_YJRnRocJi"
      }
    },
    {
      "cell_type": "code",
      "source": [
        "cart = [\"Milk\", \"Cream\", \"Sugar\", \"Vanilla\"]\n",
        "print(\"Milk\" in cart)\n",
        "print(\"Milky\" in cart)"
      ],
      "metadata": {
        "colab": {
          "base_uri": "https://localhost:8080/"
        },
        "id": "iPHxiFbPoeo3",
        "outputId": "80da33ad-fd0c-4652-ca76-7501dd01629b"
      },
      "execution_count": null,
      "outputs": [
        {
          "output_type": "stream",
          "name": "stdout",
          "text": [
            "True\n",
            "False\n"
          ]
        }
      ]
    },
    {
      "cell_type": "markdown",
      "source": [
        "#8. Replacing Text\n",
        "In the string \"The order is for Rahul. Total amount: 250 INR.\", replace the name \"Rahul\"\n",
        "with \"Sneha\". Print the new string."
      ],
      "metadata": {
        "id": "MM_sJsNMpKrx"
      }
    },
    {
      "cell_type": "code",
      "source": [
        "s1= \"The order is for Rahul. Total amount: 250 INR.\"\n",
        "s1_new=s1.replace(\"Rahul\", \"Sneha\")\n",
        "print(f\"The new string is '{s1_new}'\")"
      ],
      "metadata": {
        "colab": {
          "base_uri": "https://localhost:8080/"
        },
        "id": "uahsuRovpMr3",
        "outputId": "fc30c4d5-edda-41aa-99d1-7557ec1914b8"
      },
      "execution_count": null,
      "outputs": [
        {
          "output_type": "stream",
          "name": "stdout",
          "text": [
            "The new string is 'The order is for Sneha. Total amount: 250 INR.'\n"
          ]
        }
      ]
    },
    {
      "cell_type": "markdown",
      "source": [
        "#9. Trimming Whitespace\n",
        "Remove any leading or trailing spaces from the string \" Chocolate Fudge \" and print the\n",
        "cleaned string."
      ],
      "metadata": {
        "id": "hjxujR92rn2q"
      }
    },
    {
      "cell_type": "code",
      "source": [
        "z = \" Chocolate Fudge  \"\n",
        "print(f\"Before trimming whitespaces: '{z}'\")\n",
        "print(f\"After trimming whitespaces: '{z.strip()}'\")"
      ],
      "metadata": {
        "colab": {
          "base_uri": "https://localhost:8080/"
        },
        "id": "9yyILX-LrtgW",
        "outputId": "e9e6977f-09ca-403a-c007-3a5895357ceb"
      },
      "execution_count": null,
      "outputs": [
        {
          "output_type": "stream",
          "name": "stdout",
          "text": [
            "Before trimming whitespaces: ' Chocolate Fudge  '\n",
            "After trimming whitespaces: 'Chocolate Fudge'\n"
          ]
        }
      ]
    },
    {
      "cell_type": "markdown",
      "source": [
        "#10. Splitting a String\n",
        "Split the string \"Monday,Tuesday,Wednesday\" by the comma and print the resulting list\n",
        "of days."
      ],
      "metadata": {
        "id": "jx16ApYisa8Y"
      }
    },
    {
      "cell_type": "code",
      "source": [
        "count = 0\n",
        "week_days = \"Monday,Tuesday,Wednesday\"\n",
        "l = week_days.split(',')\n",
        "print(f\"The resulting list of days is {l}\")"
      ],
      "metadata": {
        "colab": {
          "base_uri": "https://localhost:8080/"
        },
        "id": "5jljSQACsW26",
        "outputId": "62fe4501-b388-4ba1-d5b1-70a93f10ac40"
      },
      "execution_count": null,
      "outputs": [
        {
          "output_type": "stream",
          "name": "stdout",
          "text": [
            "The resulting list of days is ['Monday', 'Tuesday', 'Wednesday']\n"
          ]
        }
      ]
    },
    {
      "cell_type": "markdown",
      "source": [
        "#11.Joining a List\n",
        "Join the list of ingredients `['Milk', 'Sugar', 'Cream']` into a single string separated by\n",
        "hyphens: \"Milk-Sugar-Cream\"."
      ],
      "metadata": {
        "id": "xEp-iXkIGkQa"
      }
    },
    {
      "cell_type": "code",
      "source": [
        "breakfast_cart = ['Milk', 'Sugar', 'Cream']\n",
        "print('-'.join(breakfast_cart))"
      ],
      "metadata": {
        "colab": {
          "base_uri": "https://localhost:8080/"
        },
        "id": "b92cWMy2GjVn",
        "outputId": "a7d8e61c-a15f-4a33-905a-04faf9549e76"
      },
      "execution_count": null,
      "outputs": [
        {
          "output_type": "stream",
          "name": "stdout",
          "text": [
            "Milk-Sugar-Cream\n"
          ]
        }
      ]
    },
    {
      "cell_type": "markdown",
      "source": [
        "#12. Formatted Receipt Line\n",
        "Use an f-string to print a receipt line for an item. The item is \"Pista\" and the price is 120\n",
        "INR. The output should be \"Item: Pista, Price: 120.00 INR\"."
      ],
      "metadata": {
        "id": "Cbw_As5AISl2"
      }
    },
    {
      "cell_type": "code",
      "source": [
        "item = \"Pista\"\n",
        "price = 120.00\n",
        "print(f\"Item: {item}, Price: {price:.2f} INR\")"
      ],
      "metadata": {
        "colab": {
          "base_uri": "https://localhost:8080/"
        },
        "id": "oOuX3FgzIWf6",
        "outputId": "88de6085-df6a-4103-ae92-2c3d131d6b1a"
      },
      "execution_count": null,
      "outputs": [
        {
          "output_type": "stream",
          "name": "stdout",
          "text": [
            "Item: Pista, Price: 120.00 INR\n"
          ]
        }
      ]
    },
    {
      "cell_type": "markdown",
      "source": [
        "#13. Multi-line String\n",
        "Create a multi-line string that holds an address: \"Shop No. 5, Main Road, City Center\".\n",
        "Print this string."
      ],
      "metadata": {
        "id": "AxHfJdAqJG4Z"
      }
    },
    {
      "cell_type": "code",
      "source": [
        "address= '''Shop No. 5,\n",
        "Main Road,\n",
        "City Center.'''\n",
        "print(address)"
      ],
      "metadata": {
        "colab": {
          "base_uri": "https://localhost:8080/"
        },
        "id": "UowH0kaVJGcD",
        "outputId": "3670db9a-8895-4999-c4ee-a344091acb1f"
      },
      "execution_count": null,
      "outputs": [
        {
          "output_type": "stream",
          "name": "stdout",
          "text": [
            "Shop No. 5, \n",
            "Main Road, \n",
            "City Center.\n"
          ]
        }
      ]
    },
    {
      "cell_type": "markdown",
      "source": [
        "#14. String Reversal\n",
        "Take the string \"Daily Report\" and print it in reverse order."
      ],
      "metadata": {
        "id": "ULiomxiuto8z"
      }
    },
    {
      "cell_type": "code",
      "source": [
        "rep = \"Daily Report\"\n",
        "rep[::-1]"
      ],
      "metadata": {
        "colab": {
          "base_uri": "https://localhost:8080/",
          "height": 36
        },
        "id": "Nax7gMyutmjI",
        "outputId": "04fd7222-f2e6-4778-ebcc-5e1e3cd9ae65"
      },
      "execution_count": null,
      "outputs": [
        {
          "output_type": "execute_result",
          "data": {
            "text/plain": [
              "'tropeR yliaD'"
            ],
            "application/vnd.google.colaboratory.intrinsic+json": {
              "type": "string"
            }
          },
          "metadata": {},
          "execution_count": 16
        }
      ]
    },
    {
      "cell_type": "markdown",
      "source": [
        "#15. Character Counting\n",
        "Count the number of times the letter 'a' appears in the string \"Banana Caramel\"."
      ],
      "metadata": {
        "id": "BophYtT5L5B6"
      }
    },
    {
      "cell_type": "code",
      "source": [
        "cup = \"Banana Caramel\"\n",
        "count = 0\n",
        "for i in range(len(cup)):\n",
        "  if cup[i] == \"a\":\n",
        "    count +=1\n",
        "    print(f\"found a vowel 'a' for {count} time\")\n",
        "\n",
        "print(f\"No. of a's in {cup} is {count}\")"
      ],
      "metadata": {
        "colab": {
          "base_uri": "https://localhost:8080/"
        },
        "id": "zZlpApjFMTQj",
        "outputId": "ea55d76e-a174-4930-e8a4-5555cba1aea2"
      },
      "execution_count": null,
      "outputs": [
        {
          "output_type": "stream",
          "name": "stdout",
          "text": [
            "found a vowel 'a' for 1 time\n",
            "found a vowel 'a' for 2 time\n",
            "found a vowel 'a' for 3 time\n",
            "found a vowel 'a' for 4 time\n",
            "found a vowel 'a' for 5 time\n",
            "No. of a's in Banana Caramel is 5\n"
          ]
        }
      ]
    },
    {
      "cell_type": "markdown",
      "source": [
        "## 2. Flow Control Blocks - if/else and loops"
      ],
      "metadata": {
        "id": "6WcEaPyQOsKe"
      }
    },
    {
      "cell_type": "markdown",
      "source": [
        "#1. Single Condition Check\n",
        "Create a variable `current_stock` with the value 50. If `current_stock` is less than 20, print\n",
        "\"Low stock warning.\""
      ],
      "metadata": {
        "id": "GlyxqOTkPAC3"
      }
    },
    {
      "cell_type": "code",
      "source": [
        "current_stock = eval(input(\"Enter the current stock value: \"))\n",
        "if current_stock < 20:\n",
        "  print(\"Low stock warning\")"
      ],
      "metadata": {
        "colab": {
          "base_uri": "https://localhost:8080/"
        },
        "id": "naIW2IrNOu4G",
        "outputId": "a8e426cf-f23e-4f15-ac3f-56afef9661a6"
      },
      "execution_count": null,
      "outputs": [
        {
          "output_type": "stream",
          "name": "stdout",
          "text": [
            "Enter the current stock value: 3\n",
            "Low stock warning\n"
          ]
        }
      ]
    },
    {
      "cell_type": "markdown",
      "source": [
        "#2. Basic if/else\n",
        "Create a variable `order_status` with \"Pending\". If the status is \"Pending\", print \"Order is\n",
        "being prepared.\". Otherwise, print \"Order is complete.\""
      ],
      "metadata": {
        "id": "gKoK-SZgPax3"
      }
    },
    {
      "cell_type": "code",
      "source": [
        "order_status = input(\"Enter Order Status: \")\n",
        "if order_status == \"pending\":\n",
        "  print(\"Order is being prepared.\")\n",
        "else:\n",
        "  print(\"Order is complete.\")"
      ],
      "metadata": {
        "colab": {
          "base_uri": "https://localhost:8080/"
        },
        "id": "xaih3MDyPc8G",
        "outputId": "a145b192-b31b-4849-fb78-e7ba8cd36c5a"
      },
      "execution_count": null,
      "outputs": [
        {
          "output_type": "stream",
          "name": "stdout",
          "text": [
            "Enter Order Status: pending\n",
            "Order is being prepared.\n"
          ]
        }
      ]
    },
    {
      "cell_type": "markdown",
      "source": [
        "#3. Multiple Conditions with elif\n",
        "Create a variable `temperature` with 25. If the temperature is above 30, print \"High\n",
        "ambient temperature.\". If it's between 20 and 30 (inclusive), print \"Normal operating\n",
        "temperature.\". Otherwise, print \"Low ambient temperature.\""
      ],
      "metadata": {
        "id": "GRbYJUzIQJZ7"
      }
    },
    {
      "cell_type": "code",
      "source": [
        "temperature = eval(input(\"Enter current temperature:\"))\n",
        "if temperature > 30:\n",
        "  print(\"High ambient temperature.\")\n",
        "elif 20 > temperature > 31 :\n",
        "  print(\"Normal operating temperature.\")\n",
        "else:\n",
        "  print(\"Low ambient temperature.\")"
      ],
      "metadata": {
        "colab": {
          "base_uri": "https://localhost:8080/"
        },
        "id": "DuI_C-65QNST",
        "outputId": "ec181cf7-4eda-4745-ac67-69024015d6c3"
      },
      "execution_count": null,
      "outputs": [
        {
          "output_type": "stream",
          "name": "stdout",
          "text": [
            "Enter current temperature:60\n",
            "High ambient temperature.\n"
          ]
        }
      ]
    },
    {
      "cell_type": "code",
      "source": [
        "temperature = eval(input(\"Enter current temperature:\"))\n",
        "if temperature > 30:\n",
        "  print(\"High ambient temperature.\")\n",
        "elif temperature in range(20, 31) :\n",
        "  print(\"Normal operating temperature.\")\n",
        "else:\n",
        "  print(\"Low ambient temperature.\")"
      ],
      "metadata": {
        "colab": {
          "base_uri": "https://localhost:8080/"
        },
        "id": "FU5A6OE3Qp2C",
        "outputId": "3ecc0dc1-91cc-459c-acb7-dda8601314b1"
      },
      "execution_count": null,
      "outputs": [
        {
          "output_type": "stream",
          "name": "stdout",
          "text": [
            "Enter current temperature:25\n",
            "Normal operating temperature.\n"
          ]
        }
      ]
    },
    {
      "cell_type": "markdown",
      "source": [
        "#4. Price-based Discount\n",
        "A customer's total bill is 550 INR. If the total is over 500 INR, a 10% discount is applied.\n",
        "Calculate and print the final amount. Otherwise, print the original total."
      ],
      "metadata": {
        "id": "rGgkvq29RJmr"
      }
    },
    {
      "cell_type": "code",
      "source": [
        "total_bill = eval(input(\"Enter total bill amount: \"))\n",
        "if total_bill > 500:\n",
        "  total_bill -= total_bill * 0.10\n",
        "  print(f\"The total billed amount after 10% discount is {total_bill}\")\n",
        "else:\n",
        "  print(f\"The total billed amount is {total_bill}\")\n"
      ],
      "metadata": {
        "colab": {
          "base_uri": "https://localhost:8080/"
        },
        "id": "lv8rOY4DRL9a",
        "outputId": "613212e4-1539-4b00-db01-93a17f08566c"
      },
      "execution_count": null,
      "outputs": [
        {
          "output_type": "stream",
          "name": "stdout",
          "text": [
            "Enter total bill amount: 76\n",
            "The total billed amount is 76\n"
          ]
        }
      ]
    },
    {
      "cell_type": "markdown",
      "source": [
        "#5. For Loop: Iterating over a list\n",
        "Print each item from the list of flavors: `['Vanilla', 'Chocolate', 'Strawberry']`."
      ],
      "metadata": {
        "id": "wy2Y2zpjTLOj"
      }
    },
    {
      "cell_type": "code",
      "source": [
        "for i in ['Vanilla', 'Chocolate', 'Strawberry']:\n",
        "  print(i)"
      ],
      "metadata": {
        "colab": {
          "base_uri": "https://localhost:8080/"
        },
        "id": "tGCr4_-uTMzE",
        "outputId": "f57f000b-2107-49a3-de25-71d8906850dd"
      },
      "execution_count": null,
      "outputs": [
        {
          "output_type": "stream",
          "name": "stdout",
          "text": [
            "Vanilla\n",
            "Chocolate\n",
            "Strawberry\n"
          ]
        }
      ]
    },
    {
      "cell_type": "markdown",
      "source": [
        "#6. For Loop with a condition\n",
        "Iterate through the list of flavors `['Vanilla', 'Chocolate', 'Strawberry', 'Mango']`. Print only\n",
        "the flavors that are not 'Strawberry'."
      ],
      "metadata": {
        "id": "_oRLeq56TgeK"
      }
    },
    {
      "cell_type": "code",
      "source": [
        "flavors = ['Vanilla', 'Chocolate', 'Strawberry', 'Mango']\n",
        "for i in flavors:\n",
        "  if i != \"Strawberry\":\n",
        "    print(i)"
      ],
      "metadata": {
        "colab": {
          "base_uri": "https://localhost:8080/"
        },
        "id": "G5UCvIOMTiiY",
        "outputId": "bec49416-d506-4f18-fd92-26f15af7012f"
      },
      "execution_count": null,
      "outputs": [
        {
          "output_type": "stream",
          "name": "stdout",
          "text": [
            "Vanilla\n",
            "Chocolate\n",
            "Mango\n"
          ]
        }
      ]
    },
    {
      "cell_type": "markdown",
      "source": [
        "#7. While Loop for a Countdown\n",
        "Simulate a timer for a process that takes 5 minutes. Start a variable `timer` at 5 and print\n",
        "a message each time it decreases, until it reaches 0. E.g., \"5 minutes remaining...\", \"4\n",
        "minutes remaining...\", etc."
      ],
      "metadata": {
        "id": "GSNuMVT-T1J1"
      }
    },
    {
      "cell_type": "code",
      "source": [
        "timer = int(input(\"Enter timer countdown in minutes: \"))\n",
        "print(f\"Your time starts now! {timer} minutes is set.\")\n",
        "for i in range(timer,0,-1):\n",
        "  timer -= 1\n",
        "  print(f\"{timer} minutes remaining...\")\n",
        "print(f\"{timer}. time up!\")"
      ],
      "metadata": {
        "colab": {
          "base_uri": "https://localhost:8080/"
        },
        "id": "snZObISgT4Qe",
        "outputId": "67bdefdf-afef-48a2-8b39-3fefbc4d2092"
      },
      "execution_count": null,
      "outputs": [
        {
          "output_type": "stream",
          "name": "stdout",
          "text": [
            "Enter timer countdown in minutes: 5\n",
            "Your time starts now! 5 minutes is set.\n",
            "4 minutes remaining...\n",
            "3 minutes remaining...\n",
            "2 minutes remaining...\n",
            "1 minutes remaining...\n",
            "0 minutes remaining...\n",
            "0. time up!\n"
          ]
        }
      ]
    },
    {
      "cell_type": "code",
      "source": [
        "timer2 = int(input(\"Enter timer countdown in minutes: \"))\n",
        "timer2 *= 60\n",
        "print(f\"Your time starts now! Timer for {timer2} seconds is set.\")\n",
        "for i in range(timer2, 0, -1):\n",
        "  timer2 -= 1\n",
        "  if timer2 in range(120, 99, -1):\n",
        "    print(f\"110 secs left..\")\n",
        "  elif timer2 in range(99, 89, -1):\n",
        "    print(f\"80 secs left..\")\n",
        "  elif timer2 in range(89, 69, -1):\n",
        "    print(f\"70 secs left..\")\n",
        "  elif timer2 in range(69, 49, -1):\n",
        "    print(f\"50 secs left..\")\n",
        "  elif timer2 in range(49, 29, -1):\n",
        "    print(f\"30 secs left..\")\n",
        "  else:\n",
        "    print(f\"last {timer2} seconds left\" )\n",
        "print(\"time up!\")"
      ],
      "metadata": {
        "colab": {
          "base_uri": "https://localhost:8080/"
        },
        "id": "WNt1OH7FUJA7",
        "outputId": "02c181f1-75fb-4397-c11f-e8e18b54fa7f"
      },
      "execution_count": null,
      "outputs": [
        {
          "output_type": "stream",
          "name": "stdout",
          "text": [
            "Enter timer countdown in minutes: 2\n",
            "Your time starts now! Timer for 120 seconds is set.\n",
            "110 secs left..\n",
            "110 secs left..\n",
            "110 secs left..\n",
            "110 secs left..\n",
            "110 secs left..\n",
            "110 secs left..\n",
            "110 secs left..\n",
            "110 secs left..\n",
            "110 secs left..\n",
            "110 secs left..\n",
            "110 secs left..\n",
            "110 secs left..\n",
            "110 secs left..\n",
            "110 secs left..\n",
            "110 secs left..\n",
            "110 secs left..\n",
            "110 secs left..\n",
            "110 secs left..\n",
            "110 secs left..\n",
            "110 secs left..\n",
            "80 secs left..\n",
            "80 secs left..\n",
            "80 secs left..\n",
            "80 secs left..\n",
            "80 secs left..\n",
            "80 secs left..\n",
            "80 secs left..\n",
            "80 secs left..\n",
            "80 secs left..\n",
            "80 secs left..\n",
            "70 secs left..\n",
            "70 secs left..\n",
            "70 secs left..\n",
            "70 secs left..\n",
            "70 secs left..\n",
            "70 secs left..\n",
            "70 secs left..\n",
            "70 secs left..\n",
            "70 secs left..\n",
            "70 secs left..\n",
            "70 secs left..\n",
            "70 secs left..\n",
            "70 secs left..\n",
            "70 secs left..\n",
            "70 secs left..\n",
            "70 secs left..\n",
            "70 secs left..\n",
            "70 secs left..\n",
            "70 secs left..\n",
            "70 secs left..\n",
            "50 secs left..\n",
            "50 secs left..\n",
            "50 secs left..\n",
            "50 secs left..\n",
            "50 secs left..\n",
            "50 secs left..\n",
            "50 secs left..\n",
            "50 secs left..\n",
            "50 secs left..\n",
            "50 secs left..\n",
            "50 secs left..\n",
            "50 secs left..\n",
            "50 secs left..\n",
            "50 secs left..\n",
            "50 secs left..\n",
            "50 secs left..\n",
            "50 secs left..\n",
            "50 secs left..\n",
            "50 secs left..\n",
            "50 secs left..\n",
            "30 secs left..\n",
            "30 secs left..\n",
            "30 secs left..\n",
            "30 secs left..\n",
            "30 secs left..\n",
            "30 secs left..\n",
            "30 secs left..\n",
            "30 secs left..\n",
            "30 secs left..\n",
            "30 secs left..\n",
            "30 secs left..\n",
            "30 secs left..\n",
            "30 secs left..\n",
            "30 secs left..\n",
            "30 secs left..\n",
            "30 secs left..\n",
            "30 secs left..\n",
            "30 secs left..\n",
            "30 secs left..\n",
            "30 secs left..\n",
            "last 29 seconds left\n",
            "last 28 seconds left\n",
            "last 27 seconds left\n",
            "last 26 seconds left\n",
            "last 25 seconds left\n",
            "last 24 seconds left\n",
            "last 23 seconds left\n",
            "last 22 seconds left\n",
            "last 21 seconds left\n",
            "last 20 seconds left\n",
            "last 19 seconds left\n",
            "last 18 seconds left\n",
            "last 17 seconds left\n",
            "last 16 seconds left\n",
            "last 15 seconds left\n",
            "last 14 seconds left\n",
            "last 13 seconds left\n",
            "last 12 seconds left\n",
            "last 11 seconds left\n",
            "last 10 seconds left\n",
            "last 9 seconds left\n",
            "last 8 seconds left\n",
            "last 7 seconds left\n",
            "last 6 seconds left\n",
            "last 5 seconds left\n",
            "last 4 seconds left\n",
            "last 3 seconds left\n",
            "last 2 seconds left\n",
            "last 1 seconds left\n",
            "last 0 seconds left\n",
            "time up!\n"
          ]
        }
      ]
    }
  ]
}